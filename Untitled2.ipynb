{
 "cells": [
  {
   "cell_type": "code",
   "execution_count": 66,
   "id": "02442939",
   "metadata": {},
   "outputs": [
    {
     "data": {
      "text/html": [
       "<div>\n",
       "<style scoped>\n",
       "    .dataframe tbody tr th:only-of-type {\n",
       "        vertical-align: middle;\n",
       "    }\n",
       "\n",
       "    .dataframe tbody tr th {\n",
       "        vertical-align: top;\n",
       "    }\n",
       "\n",
       "    .dataframe thead th {\n",
       "        text-align: right;\n",
       "    }\n",
       "</style>\n",
       "<table border=\"1\" class=\"dataframe\">\n",
       "  <thead>\n",
       "    <tr style=\"text-align: right;\">\n",
       "      <th></th>\n",
       "      <th>Unnamed: 0</th>\n",
       "      <th>codeofcity</th>\n",
       "      <th>gender</th>\n",
       "      <th>experience</th>\n",
       "      <th>universitybackground</th>\n",
       "      <th>educationlevel</th>\n",
       "      <th>experienceyears</th>\n",
       "      <th>traininghour</th>\n",
       "      <th>stay</th>\n",
       "    </tr>\n",
       "  </thead>\n",
       "  <tbody>\n",
       "    <tr>\n",
       "      <th>0</th>\n",
       "      <td>0</td>\n",
       "      <td>city_149</td>\n",
       "      <td>Male</td>\n",
       "      <td>Has relevent experience</td>\n",
       "      <td>no_enrollment</td>\n",
       "      <td>Graduate</td>\n",
       "      <td>3</td>\n",
       "      <td>106</td>\n",
       "      <td>0</td>\n",
       "    </tr>\n",
       "    <tr>\n",
       "      <th>1</th>\n",
       "      <td>1</td>\n",
       "      <td>city_83</td>\n",
       "      <td>Male</td>\n",
       "      <td>Has relevent experience</td>\n",
       "      <td>no_enrollment</td>\n",
       "      <td>Graduate</td>\n",
       "      <td>14</td>\n",
       "      <td>69</td>\n",
       "      <td>0</td>\n",
       "    </tr>\n",
       "    <tr>\n",
       "      <th>2</th>\n",
       "      <td>2</td>\n",
       "      <td>city_16</td>\n",
       "      <td>NaN</td>\n",
       "      <td>Has relevent experience</td>\n",
       "      <td>no_enrollment</td>\n",
       "      <td>Graduate</td>\n",
       "      <td>6</td>\n",
       "      <td>4</td>\n",
       "      <td>0</td>\n",
       "    </tr>\n",
       "    <tr>\n",
       "      <th>3</th>\n",
       "      <td>3</td>\n",
       "      <td>city_64</td>\n",
       "      <td>Male</td>\n",
       "      <td>Has relevent experience</td>\n",
       "      <td>no_enrollment</td>\n",
       "      <td>Graduate</td>\n",
       "      <td>14</td>\n",
       "      <td>26</td>\n",
       "      <td>0</td>\n",
       "    </tr>\n",
       "    <tr>\n",
       "      <th>4</th>\n",
       "      <td>4</td>\n",
       "      <td>city_100</td>\n",
       "      <td>NaN</td>\n",
       "      <td>No relevent experience</td>\n",
       "      <td>no_enrollment</td>\n",
       "      <td>Masters</td>\n",
       "      <td>8</td>\n",
       "      <td>88</td>\n",
       "      <td>1</td>\n",
       "    </tr>\n",
       "  </tbody>\n",
       "</table>\n",
       "</div>"
      ],
      "text/plain": [
       "   Unnamed: 0 codeofcity gender               experience universitybackground educationlevel experienceyears  traininghour  stay\n",
       "0           0   city_149   Male  Has relevent experience        no_enrollment       Graduate               3           106     0\n",
       "1           1    city_83   Male  Has relevent experience        no_enrollment       Graduate              14            69     0\n",
       "2           2    city_16    NaN  Has relevent experience        no_enrollment       Graduate               6             4     0\n",
       "3           3    city_64   Male  Has relevent experience        no_enrollment       Graduate              14            26     0\n",
       "4           4   city_100    NaN   No relevent experience        no_enrollment        Masters               8            88     1"
      ]
     },
     "execution_count": 66,
     "metadata": {},
     "output_type": "execute_result"
    }
   ],
   "source": [
    " import pandas as pd\n",
    " import seaborn as sns\n",
    " import numpy as np\n",
    " import matplotlib.pyplot as plt\n",
    " pd.set_option('display.max_columns',None)\n",
    " pd.set_option('display.width',500)\n",
    " df = pd.read_csv('hrtrain.csv')\n",
    " df.head()"
   ]
  },
  {
   "cell_type": "code",
   "execution_count": 4,
   "id": "001b6585",
   "metadata": {},
   "outputs": [
    {
     "name": "stdout",
     "output_type": "stream",
     "text": [
      "<class 'pandas.core.frame.DataFrame'>\n",
      "RangeIndex: 18359 entries, 0 to 18358\n",
      "Data columns (total 9 columns):\n",
      " #   Column                Non-Null Count  Dtype \n",
      "---  ------                --------------  ----- \n",
      " 0   Unnamed: 0            18359 non-null  int64 \n",
      " 1   codeofcity            18359 non-null  object\n",
      " 2   gender                14261 non-null  object\n",
      " 3   experience            18359 non-null  object\n",
      " 4   universitybackground  18017 non-null  object\n",
      " 5   educationlevel        17902 non-null  object\n",
      " 6   experienceyears       18300 non-null  object\n",
      " 7   traininghour          18359 non-null  int64 \n",
      " 8   stay                  18359 non-null  int64 \n",
      "dtypes: int64(3), object(6)\n",
      "memory usage: 1.3+ MB\n"
     ]
    }
   ],
   "source": [
    "df.info()"
   ]
  },
  {
   "cell_type": "code",
   "execution_count": 5,
   "id": "074cdbc9",
   "metadata": {},
   "outputs": [
    {
     "data": {
      "text/plain": [
       "Unnamed: 0                 0\n",
       "codeofcity                 0\n",
       "gender                  4098\n",
       "experience                 0\n",
       "universitybackground     342\n",
       "educationlevel           457\n",
       "experienceyears           59\n",
       "traininghour               0\n",
       "stay                       0\n",
       "dtype: int64"
      ]
     },
     "execution_count": 5,
     "metadata": {},
     "output_type": "execute_result"
    }
   ],
   "source": [
    "df.isna().sum()"
   ]
  },
  {
   "cell_type": "code",
   "execution_count": 53,
   "id": "7a36abd8",
   "metadata": {},
   "outputs": [],
   "source": [
    "df1 = df.groupby('educationlevel').mean('traininghour').round()\n",
    "df1 = df1.drop(columns = ['Unnamed: 0','stay'])\n",
    "df1 = df1.rename(columns={'traininghour': 'traininghours_mean'})"
   ]
  },
  {
   "cell_type": "code",
   "execution_count": 54,
   "id": "67a883e0",
   "metadata": {},
   "outputs": [
    {
     "data": {
      "text/html": [
       "<div>\n",
       "<style scoped>\n",
       "    .dataframe tbody tr th:only-of-type {\n",
       "        vertical-align: middle;\n",
       "    }\n",
       "\n",
       "    .dataframe tbody tr th {\n",
       "        vertical-align: top;\n",
       "    }\n",
       "\n",
       "    .dataframe thead th {\n",
       "        text-align: right;\n",
       "    }\n",
       "</style>\n",
       "<table border=\"1\" class=\"dataframe\">\n",
       "  <thead>\n",
       "    <tr style=\"text-align: right;\">\n",
       "      <th></th>\n",
       "      <th>traininghours_mean</th>\n",
       "      <th>education_level_counts</th>\n",
       "    </tr>\n",
       "    <tr>\n",
       "      <th>educationlevel</th>\n",
       "      <th></th>\n",
       "      <th></th>\n",
       "    </tr>\n",
       "  </thead>\n",
       "  <tbody>\n",
       "    <tr>\n",
       "      <th>Graduate</th>\n",
       "      <td>66.0</td>\n",
       "      <td>10769.0</td>\n",
       "    </tr>\n",
       "    <tr>\n",
       "      <th>High School</th>\n",
       "      <td>66.0</td>\n",
       "      <td>2032.0</td>\n",
       "    </tr>\n",
       "    <tr>\n",
       "      <th>Masters</th>\n",
       "      <td>64.0</td>\n",
       "      <td>4319.0</td>\n",
       "    </tr>\n",
       "    <tr>\n",
       "      <th>Phd</th>\n",
       "      <td>69.0</td>\n",
       "      <td>459.0</td>\n",
       "    </tr>\n",
       "    <tr>\n",
       "      <th>Primary School</th>\n",
       "      <td>66.0</td>\n",
       "      <td>323.0</td>\n",
       "    </tr>\n",
       "  </tbody>\n",
       "</table>\n",
       "</div>"
      ],
      "text/plain": [
       "                traininghours_mean  education_level_counts\n",
       "educationlevel                                            \n",
       "Graduate                      66.0                 10769.0\n",
       "High School                   66.0                  2032.0\n",
       "Masters                       64.0                  4319.0\n",
       "Phd                           69.0                   459.0\n",
       "Primary School                66.0                   323.0"
      ]
     },
     "execution_count": 54,
     "metadata": {},
     "output_type": "execute_result"
    }
   ],
   "source": [
    "df1"
   ]
  },
  {
   "cell_type": "code",
   "execution_count": 47,
   "id": "797aa0b7",
   "metadata": {},
   "outputs": [
    {
     "data": {
      "text/plain": [
       "educationlevel\n",
       "Graduate          10769\n",
       "Masters            4319\n",
       "High School        2032\n",
       "Phd                 459\n",
       "Primary School      323\n",
       "Name: count, dtype: int64"
      ]
     },
     "execution_count": 47,
     "metadata": {},
     "output_type": "execute_result"
    }
   ],
   "source": [
    "education_level_counts = df['educationlevel'].value_counts()\n",
    "education_level_counts"
   ]
  },
  {
   "cell_type": "code",
   "execution_count": 45,
   "id": "532efeed",
   "metadata": {},
   "outputs": [],
   "source": [
    "education_level_counts = df['educationlevel'].value_counts()\n",
    "\n",
    "# Convert value counts to an array\n",
    "education_level_array = education_level_counts.values"
   ]
  },
  {
   "cell_type": "code",
   "execution_count": 46,
   "id": "8587175b",
   "metadata": {},
   "outputs": [],
   "source": [
    "df1['education_level_counts'] = education_level_array"
   ]
  },
  {
   "cell_type": "code",
   "execution_count": 64,
   "id": "e6b958c2",
   "metadata": {},
   "outputs": [
    {
     "data": {
      "text/html": [
       "<div>\n",
       "<style scoped>\n",
       "    .dataframe tbody tr th:only-of-type {\n",
       "        vertical-align: middle;\n",
       "    }\n",
       "\n",
       "    .dataframe tbody tr th {\n",
       "        vertical-align: top;\n",
       "    }\n",
       "\n",
       "    .dataframe thead th {\n",
       "        text-align: right;\n",
       "    }\n",
       "</style>\n",
       "<table border=\"1\" class=\"dataframe\">\n",
       "  <thead>\n",
       "    <tr style=\"text-align: right;\">\n",
       "      <th></th>\n",
       "      <th>traininghours_mean</th>\n",
       "      <th>education_level_counts</th>\n",
       "      <th>educationlevel</th>\n",
       "    </tr>\n",
       "    <tr>\n",
       "      <th>educationlevel</th>\n",
       "      <th></th>\n",
       "      <th></th>\n",
       "      <th></th>\n",
       "    </tr>\n",
       "  </thead>\n",
       "  <tbody>\n",
       "    <tr>\n",
       "      <th>Graduate</th>\n",
       "      <td>66.0</td>\n",
       "      <td>10769.0</td>\n",
       "      <td>Graduate</td>\n",
       "    </tr>\n",
       "    <tr>\n",
       "      <th>High School</th>\n",
       "      <td>66.0</td>\n",
       "      <td>2032.0</td>\n",
       "      <td>High School</td>\n",
       "    </tr>\n",
       "    <tr>\n",
       "      <th>Masters</th>\n",
       "      <td>64.0</td>\n",
       "      <td>4319.0</td>\n",
       "      <td>High School</td>\n",
       "    </tr>\n",
       "    <tr>\n",
       "      <th>Phd</th>\n",
       "      <td>69.0</td>\n",
       "      <td>459.0</td>\n",
       "      <td>Phd</td>\n",
       "    </tr>\n",
       "    <tr>\n",
       "      <th>Primary School</th>\n",
       "      <td>66.0</td>\n",
       "      <td>323.0</td>\n",
       "      <td>Primary School</td>\n",
       "    </tr>\n",
       "  </tbody>\n",
       "</table>\n",
       "</div>"
      ],
      "text/plain": [
       "                traininghours_mean  education_level_counts  educationlevel\n",
       "educationlevel                                                            \n",
       "Graduate                      66.0                 10769.0        Graduate\n",
       "High School                   66.0                  2032.0     High School\n",
       "Masters                       64.0                  4319.0     High School\n",
       "Phd                           69.0                   459.0             Phd\n",
       "Primary School                66.0                   323.0  Primary School"
      ]
     },
     "execution_count": 64,
     "metadata": {},
     "output_type": "execute_result"
    }
   ],
   "source": [
    "df1"
   ]
  },
  {
   "cell_type": "code",
   "execution_count": 63,
   "id": "0555580f",
   "metadata": {},
   "outputs": [],
   "source": [
    "new_array = ['Graduate', 'High School','High School','Phd','Primary School']\n",
    "df1['educationlevel'] = new_array"
   ]
  },
  {
   "cell_type": "code",
   "execution_count": 68,
   "id": "53a3a1f2",
   "metadata": {},
   "outputs": [
    {
     "data": {
      "image/png": "[encoded data removed]",
      "text/plain": [
       "<Figure size 1000x600 with 1 Axes>"
      ]
     },
     "metadata": {},
     "output_type": "display_data"
    }
   ],
   "source": [
    "plt.figure(figsize=(10, 6))\n",
    "\n",
    "# Bar chart with Seaborn\n",
    "sns.barplot(data=df1, x='educationlevel', y='traininghours_mean', hue='education_level_counts')\n",
    "plt.xlabel('Education Level')\n",
    "plt.ylabel('Training Hours')\n",
    "plt.title('Bar Chart of Training Hours by Education Level')\n",
    "plt.xticks(rotation=45)  # Rotate x-axis labels for better readability\n",
    "\n",
    "plt.show()"
   ]
  }
 ],
 "metadata": {
  "kernelspec": {
   "display_name": "Python 3 (ipykernel)",
   "language": "python",
   "name": "python3"
  },
  "language_info": {
   "codemirror_mode": {
    "name": "ipython",
    "version": 3
   },
   "file_extension": ".py",
   "mimetype": "text/x-python",
   "name": "python",
   "nbconvert_exporter": "python",
   "pygments_lexer": "ipython3",
   "version": "3.11.5"
  }
 },
 "nbformat": 4,
 "nbformat_minor": 5
}
